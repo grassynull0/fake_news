{
 "cells": [
  {
   "cell_type": "code",
   "execution_count": 1,
   "metadata": {},
   "outputs": [
    {
     "name": "stderr",
     "output_type": "stream",
     "text": [
      "[nltk_data] Downloading package stopwords to\n",
      "[nltk_data]     /Users/bensioninoyatov/nltk_data...\n",
      "[nltk_data]   Package stopwords is already up-to-date!\n",
      "[nltk_data] Downloading package punkt to\n",
      "[nltk_data]     /Users/bensioninoyatov/nltk_data...\n",
      "[nltk_data]   Package punkt is already up-to-date!\n",
      "[nltk_data] Downloading package wordnet to\n",
      "[nltk_data]     /Users/bensioninoyatov/nltk_data...\n",
      "[nltk_data]   Package wordnet is already up-to-date!\n"
     ]
    },
    {
     "data": {
      "text/plain": [
       "True"
      ]
     },
     "execution_count": 1,
     "metadata": {},
     "output_type": "execute_result"
    }
   ],
   "source": [
    "# Loading in the necessary libraries \n",
    "import pandas as pd\n",
    "import matplotlib.pyplot as plt\n",
    "from matplotlib import cm\n",
    "import seaborn as sns\n",
    "import numpy as np\n",
    "import re\n",
    "\n",
    "import nltk\n",
    "from nltk.probability import FreqDist\n",
    "from nltk.corpus import stopwords\n",
    "from nltk.stem import PorterStemmer\n",
    "from nltk.stem import WordNetLemmatizer \n",
    "\n",
    "from sklearn.feature_extraction.text import CountVectorizer\n",
    "from sklearn.feature_extraction.text import TfidfVectorizer\n",
    "from sklearn.feature_extraction.text import TfidfTransformer\n",
    "\n",
    "from sklearn.dummy import DummyClassifier\n",
    "from sklearn.linear_model import PassiveAggressiveClassifier\n",
    "from sklearn.metrics import confusion_matrix\n",
    "from sklearn.naive_bayes import MultinomialNB\n",
    "from sklearn import metrics\n",
    "from sklearn.model_selection import train_test_split\n",
    "from sklearn.ensemble import RandomForestClassifier\n",
    "from sklearn.model_selection import GridSearchCV\n",
    "from sklearn.metrics import accuracy_score\n",
    "from sklearn.metrics import f1_score\n",
    "from sklearn.metrics import plot_confusion_matrix\n",
    "\n",
    "\n",
    "nltk.download('stopwords')\n",
    "nltk.download('punkt')\n",
    "nltk.download('wordnet')"
   ]
  },
  {
   "cell_type": "code",
   "execution_count": 2,
   "metadata": {},
   "outputs": [],
   "source": [
    "main = pd.read_csv('main1.csv')\n",
    "main.drop(columns='Unnamed: 0', inplace=True)"
   ]
  },
  {
   "cell_type": "code",
   "execution_count": 3,
   "metadata": {
    "collapsed": true
   },
   "outputs": [
    {
     "data": {
      "text/html": [
       "<div>\n",
       "<style scoped>\n",
       "    .dataframe tbody tr th:only-of-type {\n",
       "        vertical-align: middle;\n",
       "    }\n",
       "\n",
       "    .dataframe tbody tr th {\n",
       "        vertical-align: top;\n",
       "    }\n",
       "\n",
       "    .dataframe thead th {\n",
       "        text-align: right;\n",
       "    }\n",
       "</style>\n",
       "<table border=\"1\" class=\"dataframe\">\n",
       "  <thead>\n",
       "    <tr style=\"text-align: right;\">\n",
       "      <th></th>\n",
       "      <th>text</th>\n",
       "      <th>label</th>\n",
       "    </tr>\n",
       "  </thead>\n",
       "  <tbody>\n",
       "    <tr>\n",
       "      <th>0</th>\n",
       "      <td>You Can Smell Hillary’s Fear Daniel Greenfield...</td>\n",
       "      <td>1</td>\n",
       "    </tr>\n",
       "    <tr>\n",
       "      <th>1</th>\n",
       "      <td>Watch The Exact Moment Paul Ryan Committed Pol...</td>\n",
       "      <td>1</td>\n",
       "    </tr>\n",
       "    <tr>\n",
       "      <th>2</th>\n",
       "      <td>Kerry to go to Paris in gesture of sympathy U....</td>\n",
       "      <td>0</td>\n",
       "    </tr>\n",
       "    <tr>\n",
       "      <th>3</th>\n",
       "      <td>Bernie supporters on Twitter erupt in anger ag...</td>\n",
       "      <td>1</td>\n",
       "    </tr>\n",
       "    <tr>\n",
       "      <th>4</th>\n",
       "      <td>The Battle of New York: Why This Primary Matte...</td>\n",
       "      <td>0</td>\n",
       "    </tr>\n",
       "    <tr>\n",
       "      <th>...</th>\n",
       "      <td>...</td>\n",
       "      <td>...</td>\n",
       "    </tr>\n",
       "    <tr>\n",
       "      <th>26533</th>\n",
       "      <td>Rapper T.I.: Trump a ’Poster Child For White S...</td>\n",
       "      <td>0</td>\n",
       "    </tr>\n",
       "    <tr>\n",
       "      <th>26534</th>\n",
       "      <td>N.F.L. Playoffs: Schedule, Matchups and Odds -...</td>\n",
       "      <td>0</td>\n",
       "    </tr>\n",
       "    <tr>\n",
       "      <th>26535</th>\n",
       "      <td>Macy’s Is Said to Receive Takeover Approach by...</td>\n",
       "      <td>0</td>\n",
       "    </tr>\n",
       "    <tr>\n",
       "      <th>26536</th>\n",
       "      <td>NATO, Russia To Hold Parallel Exercises In Bal...</td>\n",
       "      <td>1</td>\n",
       "    </tr>\n",
       "    <tr>\n",
       "      <th>26537</th>\n",
       "      <td>What Keeps the F-35 Alive   David Swanson is a...</td>\n",
       "      <td>1</td>\n",
       "    </tr>\n",
       "  </tbody>\n",
       "</table>\n",
       "<p>26538 rows × 2 columns</p>\n",
       "</div>"
      ],
      "text/plain": [
       "                                                    text  label\n",
       "0      You Can Smell Hillary’s Fear Daniel Greenfield...      1\n",
       "1      Watch The Exact Moment Paul Ryan Committed Pol...      1\n",
       "2      Kerry to go to Paris in gesture of sympathy U....      0\n",
       "3      Bernie supporters on Twitter erupt in anger ag...      1\n",
       "4      The Battle of New York: Why This Primary Matte...      0\n",
       "...                                                  ...    ...\n",
       "26533  Rapper T.I.: Trump a ’Poster Child For White S...      0\n",
       "26534  N.F.L. Playoffs: Schedule, Matchups and Odds -...      0\n",
       "26535  Macy’s Is Said to Receive Takeover Approach by...      0\n",
       "26536  NATO, Russia To Hold Parallel Exercises In Bal...      1\n",
       "26537  What Keeps the F-35 Alive   David Swanson is a...      1\n",
       "\n",
       "[26538 rows x 2 columns]"
      ]
     },
     "execution_count": 3,
     "metadata": {},
     "output_type": "execute_result"
    }
   ],
   "source": [
    "main"
   ]
  },
  {
   "cell_type": "markdown",
   "metadata": {},
   "source": [
    "### Dummy Classifier to start"
   ]
  },
  {
   "cell_type": "code",
   "execution_count": 4,
   "metadata": {},
   "outputs": [
    {
     "data": {
      "text/plain": [
       "0.5108900444645414"
      ]
     },
     "execution_count": 4,
     "metadata": {},
     "output_type": "execute_result"
    }
   ],
   "source": [
    "X = main['text']\n",
    "y = main['label']\n",
    "dummy_clf = DummyClassifier(strategy='most_frequent')\n",
    "dummy_clf.fit(X,y)\n",
    "dummy_clf.predict(X)\n",
    "dummy_clf.score(X, y)"
   ]
  },
  {
   "cell_type": "markdown",
   "metadata": {},
   "source": [
    "- As expected the dummy classifier score is roughly guessing the most frequent class\n",
    "---\n",
    "### TFIDF and Passive Aggressive Classifier (PAC)\n",
    "- Only tfidf pre-processing here\n",
    "- PACs are good for text data"
   ]
  },
  {
   "cell_type": "code",
   "execution_count": 5,
   "metadata": {},
   "outputs": [],
   "source": [
    "# Splitting into train and test sets \n",
    "X_train, X_test, y_train, y_test = train_test_split(X, y, \n",
    "                                                    train_size = 0.7, random_state=1, shuffle=True)"
   ]
  },
  {
   "cell_type": "code",
   "execution_count": 6,
   "metadata": {},
   "outputs": [],
   "source": [
    "# Instantiating the tfidf object\n",
    "tfidf_vectorizer=TfidfVectorizer(stop_words='english')"
   ]
  },
  {
   "cell_type": "code",
   "execution_count": 7,
   "metadata": {},
   "outputs": [],
   "source": [
    "# Vectorizing data so that we can use it in model process \n",
    "vec_train=tfidf_vectorizer.fit_transform(X_train)\n",
    "vec_test=tfidf_vectorizer.transform(X_test)"
   ]
  },
  {
   "cell_type": "code",
   "execution_count": 8,
   "metadata": {},
   "outputs": [
    {
     "data": {
      "text/plain": [
       "PassiveAggressiveClassifier(C=0.055, random_state=1)"
      ]
     },
     "execution_count": 8,
     "metadata": {},
     "output_type": "execute_result"
    }
   ],
   "source": [
    "# Instantiating the classifier and fitting vectorized data \n",
    "pac=PassiveAggressiveClassifier(max_iter=1000, random_state=1, C=.055)\n",
    "pac.fit(vec_train,y_train)"
   ]
  },
  {
   "cell_type": "code",
   "execution_count": 9,
   "metadata": {},
   "outputs": [
    {
     "name": "stdout",
     "output_type": "stream",
     "text": [
      "PAC Accuracy: 96.13\n"
     ]
    },
    {
     "data": {
      "text/plain": [
       "0.9613162521979403"
      ]
     },
     "execution_count": 9,
     "metadata": {},
     "output_type": "execute_result"
    }
   ],
   "source": [
    "# Predicting on the test data and getting an accuracy score \n",
    "y_pred=pac.predict(vec_test)\n",
    "score=accuracy_score(y_test,y_pred)\n",
    "print(f'PAC Accuracy: {round(score*100,2)}')\n",
    "score"
   ]
  },
  {
   "cell_type": "code",
   "execution_count": 10,
   "metadata": {},
   "outputs": [
    {
     "data": {
      "text/plain": [
       "<sklearn.metrics._plot.confusion_matrix.ConfusionMatrixDisplay at 0x7ff21926f730>"
      ]
     },
     "execution_count": 10,
     "metadata": {},
     "output_type": "execute_result"
    },
    {
     "data": {
      "image/png": "[encoded data removed]",
      "text/plain": [
       "<Figure size 432x288 with 2 Axes>"
      ]
     },
     "metadata": {
      "needs_background": "light"
     },
     "output_type": "display_data"
    }
   ],
   "source": [
    "plot_confusion_matrix(pac, vec_test, y_test)"
   ]
  },
  {
   "cell_type": "markdown",
   "metadata": {},
   "source": [
    "- So far, accuracy is decent with a classifier that  and term frequency vectorizing. Further processing may improve this score \n",
    "---\n",
    "### PAC with articles tokenized and stop words removed"
   ]
  },
  {
   "cell_type": "code",
   "execution_count": 16,
   "metadata": {},
   "outputs": [
    {
     "data": {
      "text/html": [
       "<div>\n",
       "<style scoped>\n",
       "    .dataframe tbody tr th:only-of-type {\n",
       "        vertical-align: middle;\n",
       "    }\n",
       "\n",
       "    .dataframe tbody tr th {\n",
       "        vertical-align: top;\n",
       "    }\n",
       "\n",
       "    .dataframe thead th {\n",
       "        text-align: right;\n",
       "    }\n",
       "</style>\n",
       "<table border=\"1\" class=\"dataframe\">\n",
       "  <thead>\n",
       "    <tr style=\"text-align: right;\">\n",
       "      <th></th>\n",
       "      <th>text</th>\n",
       "    </tr>\n",
       "  </thead>\n",
       "  <tbody>\n",
       "    <tr>\n",
       "      <th>0</th>\n",
       "      <td>smell hillary fear daniel greenfield shillman ...</td>\n",
       "    </tr>\n",
       "    <tr>\n",
       "      <th>1</th>\n",
       "      <td>watch exact moment paul ryan committed politic...</td>\n",
       "    </tr>\n",
       "    <tr>\n",
       "      <th>2</th>\n",
       "      <td>kerry go paris gesture sympathy u.s. secretary...</td>\n",
       "    </tr>\n",
       "    <tr>\n",
       "      <th>3</th>\n",
       "      <td>bernie supporters twitter erupt anger dnc 'we ...</td>\n",
       "    </tr>\n",
       "    <tr>\n",
       "      <th>4</th>\n",
       "      <td>battle new york primary matters primary day ne...</td>\n",
       "    </tr>\n",
       "    <tr>\n",
       "      <th>...</th>\n",
       "      <td>...</td>\n",
       "    </tr>\n",
       "    <tr>\n",
       "      <th>26533</th>\n",
       "      <td>rapper t.i trump poster child white supremacy ...</td>\n",
       "    </tr>\n",
       "    <tr>\n",
       "      <th>26534</th>\n",
       "      <td>n.f.l playoffs schedule matchups odds new york...</td>\n",
       "    </tr>\n",
       "    <tr>\n",
       "      <th>26535</th>\n",
       "      <td>macy said receive takeover approach hudson bay...</td>\n",
       "    </tr>\n",
       "    <tr>\n",
       "      <th>26536</th>\n",
       "      <td>nato russia hold parallel exercises balkans na...</td>\n",
       "    </tr>\n",
       "    <tr>\n",
       "      <th>26537</th>\n",
       "      <td>keeps f-35 alive david swanson author activist...</td>\n",
       "    </tr>\n",
       "  </tbody>\n",
       "</table>\n",
       "<p>26538 rows × 1 columns</p>\n",
       "</div>"
      ],
      "text/plain": [
       "                                                    text\n",
       "0      smell hillary fear daniel greenfield shillman ...\n",
       "1      watch exact moment paul ryan committed politic...\n",
       "2      kerry go paris gesture sympathy u.s. secretary...\n",
       "3      bernie supporters twitter erupt anger dnc 'we ...\n",
       "4      battle new york primary matters primary day ne...\n",
       "...                                                  ...\n",
       "26533  rapper t.i trump poster child white supremacy ...\n",
       "26534  n.f.l playoffs schedule matchups odds new york...\n",
       "26535  macy said receive takeover approach hudson bay...\n",
       "26536  nato russia hold parallel exercises balkans na...\n",
       "26537  keeps f-35 alive david swanson author activist...\n",
       "\n",
       "[26538 rows x 1 columns]"
      ]
     },
     "execution_count": 16,
     "metadata": {},
     "output_type": "execute_result"
    }
   ],
   "source": [
    "working_text = pd.read_csv('working_text.csv')\n",
    "working_text.drop(columns='Unnamed: 0', inplace=True)\n",
    "working_text"
   ]
  },
  {
   "cell_type": "code",
   "execution_count": 84,
   "metadata": {},
   "outputs": [],
   "source": [
    "X_train_token, X_test_token, y_train, y_test = train_test_split(working_text['text'], main['label'],\n",
    "                                                               train_size = 0.7, random_state=1, shuffle=True)"
   ]
  },
  {
   "cell_type": "code",
   "execution_count": 85,
   "metadata": {},
   "outputs": [],
   "source": [
    "# Vectorizing data so that we can use it in model process \n",
    "vec_train2=tfidf_vectorizer.fit_transform(X_train_token)\n",
    "vec_test2=tfidf_vectorizer.transform(X_test_token)"
   ]
  },
  {
   "cell_type": "code",
   "execution_count": 86,
   "metadata": {
    "scrolled": true
   },
   "outputs": [
    {
     "data": {
      "text/plain": [
       "PassiveAggressiveClassifier(C=0.05, class_weight='balanced', max_iter=50,\n",
       "                            random_state=1)"
      ]
     },
     "execution_count": 86,
     "metadata": {},
     "output_type": "execute_result"
    }
   ],
   "source": [
    "# Instantiating the classifier and fitting to the new vectorized data \n",
    "pac2=PassiveAggressiveClassifier(max_iter=50, random_state=1, C=.05, class_weight='balanced', shuffle=True)\n",
    "pac2.fit(vec_train2, y_train)"
   ]
  },
  {
   "cell_type": "code",
   "execution_count": 87,
   "metadata": {},
   "outputs": [
    {
     "name": "stdout",
     "output_type": "stream",
     "text": [
      "PAC Accuracy: 96.16\n"
     ]
    },
    {
     "data": {
      "text/plain": [
       "0.9615674453654861"
      ]
     },
     "execution_count": 87,
     "metadata": {},
     "output_type": "execute_result"
    }
   ],
   "source": [
    "# Predicting on the new test data and getting an accuracy score \n",
    "y_pred2=pac2.predict(vec_test2)\n",
    "score=accuracy_score(y_test,y_pred2)\n",
    "print(f'PAC Accuracy: {round(score*100,2)}')\n",
    "score"
   ]
  },
  {
   "cell_type": "code",
   "execution_count": 92,
   "metadata": {},
   "outputs": [
    {
     "data": {
      "image/png": "[encoded data removed]",
      "text/plain": [
       "<Figure size 432x288 with 2 Axes>"
      ]
     },
     "metadata": {
      "needs_background": "light"
     },
     "output_type": "display_data"
    }
   ],
   "source": [
    "plot_confusion_matrix(pac2, vec_test2, y_test);"
   ]
  },
  {
   "cell_type": "markdown",
   "metadata": {},
   "source": [
    "### Gridsearch of PAC params with 5 folds of cross validation"
   ]
  },
  {
   "cell_type": "code",
   "execution_count": null,
   "metadata": {},
   "outputs": [],
   "source": [
    "pacgscv = PassiveAggressiveClassifier(random_state=1, C=.05)\n",
    "params = {\n",
    "    'max_iter': range(20,1000,30),\n",
    "    'shuffle': [True, False],\n",
    "    'loss': ['hinge', 'squared_hinge'],\n",
    "    'class_weight': [None, 'balanced']\n",
    "}\n",
    "gs = GridSearchCV(pacgscv, param_grid=params, n_jobs=-1, verbose=1, cv=5)"
   ]
  },
  {
   "cell_type": "code",
   "execution_count": null,
   "metadata": {},
   "outputs": [],
   "source": [
    "gs.fit(vec_train2, y_train)"
   ]
  },
  {
   "cell_type": "markdown",
   "metadata": {},
   "source": [
    "- Paramaters optimized by gridsearchcv for PAC. Best accuracy score is 96.16\n",
    "- We can try further text processing to try and get a better score \n",
    "---\n",
    "### PAC with lemmatization "
   ]
  },
  {
   "cell_type": "code",
   "execution_count": 25,
   "metadata": {},
   "outputs": [
    {
     "data": {
      "text/html": [
       "<div>\n",
       "<style scoped>\n",
       "    .dataframe tbody tr th:only-of-type {\n",
       "        vertical-align: middle;\n",
       "    }\n",
       "\n",
       "    .dataframe tbody tr th {\n",
       "        vertical-align: top;\n",
       "    }\n",
       "\n",
       "    .dataframe thead th {\n",
       "        text-align: right;\n",
       "    }\n",
       "</style>\n",
       "<table border=\"1\" class=\"dataframe\">\n",
       "  <thead>\n",
       "    <tr style=\"text-align: right;\">\n",
       "      <th></th>\n",
       "      <th>text</th>\n",
       "    </tr>\n",
       "  </thead>\n",
       "  <tbody>\n",
       "    <tr>\n",
       "      <th>0</th>\n",
       "      <td>smell hillary fear daniel greenfield shillman ...</td>\n",
       "    </tr>\n",
       "    <tr>\n",
       "      <th>1</th>\n",
       "      <td>watch exact moment paul ryan committed politic...</td>\n",
       "    </tr>\n",
       "    <tr>\n",
       "      <th>2</th>\n",
       "      <td>kerry go paris gesture sympathy u.s. secretary...</td>\n",
       "    </tr>\n",
       "    <tr>\n",
       "      <th>3</th>\n",
       "      <td>bernie supporter twitter erupt anger dnc 'we t...</td>\n",
       "    </tr>\n",
       "    <tr>\n",
       "      <th>4</th>\n",
       "      <td>battle new york primary matter primary day new...</td>\n",
       "    </tr>\n",
       "    <tr>\n",
       "      <th>...</th>\n",
       "      <td>...</td>\n",
       "    </tr>\n",
       "    <tr>\n",
       "      <th>26533</th>\n",
       "      <td>rapper t.i trump poster child white supremacy ...</td>\n",
       "    </tr>\n",
       "    <tr>\n",
       "      <th>26534</th>\n",
       "      <td>n.f.l playoff schedule matchup odds new york t...</td>\n",
       "    </tr>\n",
       "    <tr>\n",
       "      <th>26535</th>\n",
       "      <td>macy said receive takeover approach hudson bay...</td>\n",
       "    </tr>\n",
       "    <tr>\n",
       "      <th>26536</th>\n",
       "      <td>nato russia hold parallel exercise balkan nato...</td>\n",
       "    </tr>\n",
       "    <tr>\n",
       "      <th>26537</th>\n",
       "      <td>keep f-35 alive david swanson author activist ...</td>\n",
       "    </tr>\n",
       "  </tbody>\n",
       "</table>\n",
       "<p>26538 rows × 1 columns</p>\n",
       "</div>"
      ],
      "text/plain": [
       "                                                    text\n",
       "0      smell hillary fear daniel greenfield shillman ...\n",
       "1      watch exact moment paul ryan committed politic...\n",
       "2      kerry go paris gesture sympathy u.s. secretary...\n",
       "3      bernie supporter twitter erupt anger dnc 'we t...\n",
       "4      battle new york primary matter primary day new...\n",
       "...                                                  ...\n",
       "26533  rapper t.i trump poster child white supremacy ...\n",
       "26534  n.f.l playoff schedule matchup odds new york t...\n",
       "26535  macy said receive takeover approach hudson bay...\n",
       "26536  nato russia hold parallel exercise balkan nato...\n",
       "26537  keep f-35 alive david swanson author activist ...\n",
       "\n",
       "[26538 rows x 1 columns]"
      ]
     },
     "execution_count": 25,
     "metadata": {},
     "output_type": "execute_result"
    }
   ],
   "source": [
    "lemma_text = pd.read_csv('lemma_text.csv')\n",
    "lemma_text.drop(columns='Unnamed: 0', inplace=True)\n",
    "lemma_text"
   ]
  },
  {
   "cell_type": "code",
   "execution_count": 26,
   "metadata": {},
   "outputs": [],
   "source": [
    "# Splitting into train and test sets for new lemma data \n",
    "X_train_lemma, X_test_lemma, y_train, y_test = train_test_split(lemma_text['text'], main['label'], \n",
    "                                                    train_size = 0.7, random_state=1, shuffle=True)"
   ]
  },
  {
   "cell_type": "code",
   "execution_count": 27,
   "metadata": {},
   "outputs": [],
   "source": [
    "# Vectorizing data so that we can use it in model process \n",
    "vec_train3=tfidf_vectorizer.fit_transform(X_train_lemma)\n",
    "vec_test3=tfidf_vectorizer.transform(X_test_lemma)"
   ]
  },
  {
   "cell_type": "code",
   "execution_count": 40,
   "metadata": {},
   "outputs": [
    {
     "data": {
      "text/plain": [
       "PassiveAggressiveClassifier(C=0.05, class_weight='balanced', max_iter=50,\n",
       "                            random_state=1)"
      ]
     },
     "execution_count": 40,
     "metadata": {},
     "output_type": "execute_result"
    }
   ],
   "source": [
    "# Instantiating the classifier and fitting to the new vectorized data \n",
    "pac3=PassiveAggressiveClassifier(max_iter=50, random_state=1, C=.05, class_weight='balanced')\n",
    "pac3.fit(vec_train3, y_train)"
   ]
  },
  {
   "cell_type": "code",
   "execution_count": 41,
   "metadata": {},
   "outputs": [
    {
     "name": "stdout",
     "output_type": "stream",
     "text": [
      "PAC Accuracy: 96.03\n"
     ]
    },
    {
     "data": {
      "text/plain": [
       "0.9603114795277569"
      ]
     },
     "execution_count": 41,
     "metadata": {},
     "output_type": "execute_result"
    }
   ],
   "source": [
    "# Predicting on the new test data and getting an accuracy score \n",
    "y_pred3=pac3.predict(vec_test3)\n",
    "score=accuracy_score(y_test,y_pred3)\n",
    "print(f'PAC Accuracy: {round(score*100,2)}')\n",
    "score"
   ]
  },
  {
   "cell_type": "markdown",
   "metadata": {},
   "source": [
    "- Lemmatized words performed just a bit worse but only marginally \n",
    "### PAC with stemming "
   ]
  },
  {
   "cell_type": "code",
   "execution_count": 42,
   "metadata": {},
   "outputs": [
    {
     "data": {
      "text/html": [
       "<div>\n",
       "<style scoped>\n",
       "    .dataframe tbody tr th:only-of-type {\n",
       "        vertical-align: middle;\n",
       "    }\n",
       "\n",
       "    .dataframe tbody tr th {\n",
       "        vertical-align: top;\n",
       "    }\n",
       "\n",
       "    .dataframe thead th {\n",
       "        text-align: right;\n",
       "    }\n",
       "</style>\n",
       "<table border=\"1\" class=\"dataframe\">\n",
       "  <thead>\n",
       "    <tr style=\"text-align: right;\">\n",
       "      <th></th>\n",
       "      <th>text</th>\n",
       "    </tr>\n",
       "  </thead>\n",
       "  <tbody>\n",
       "    <tr>\n",
       "      <th>0</th>\n",
       "      <td>smell hillari fear daniel greenfield shillman ...</td>\n",
       "    </tr>\n",
       "    <tr>\n",
       "      <th>1</th>\n",
       "      <td>watch exact moment paul ryan commit polit suic...</td>\n",
       "    </tr>\n",
       "    <tr>\n",
       "      <th>2</th>\n",
       "      <td>kerri go pari gestur sympathi u.s. secretari s...</td>\n",
       "    </tr>\n",
       "    <tr>\n",
       "      <th>3</th>\n",
       "      <td>berni support twitter erupt anger dnc 'we tri ...</td>\n",
       "    </tr>\n",
       "    <tr>\n",
       "      <th>4</th>\n",
       "      <td>battl new york primari matter primari day new ...</td>\n",
       "    </tr>\n",
       "    <tr>\n",
       "      <th>...</th>\n",
       "      <td>...</td>\n",
       "    </tr>\n",
       "    <tr>\n",
       "      <th>26533</th>\n",
       "      <td>rapper t.i trump poster child white supremaci ...</td>\n",
       "    </tr>\n",
       "    <tr>\n",
       "      <th>26534</th>\n",
       "      <td>n.f.l playoff schedul matchup odd new york tim...</td>\n",
       "    </tr>\n",
       "    <tr>\n",
       "      <th>26535</th>\n",
       "      <td>maci said receiv takeov approach hudson bay ne...</td>\n",
       "    </tr>\n",
       "    <tr>\n",
       "      <th>26536</th>\n",
       "      <td>nato russia hold parallel exercis balkan nato ...</td>\n",
       "    </tr>\n",
       "    <tr>\n",
       "      <th>26537</th>\n",
       "      <td>keep f-35 aliv david swanson author activist j...</td>\n",
       "    </tr>\n",
       "  </tbody>\n",
       "</table>\n",
       "<p>26538 rows × 1 columns</p>\n",
       "</div>"
      ],
      "text/plain": [
       "                                                    text\n",
       "0      smell hillari fear daniel greenfield shillman ...\n",
       "1      watch exact moment paul ryan commit polit suic...\n",
       "2      kerri go pari gestur sympathi u.s. secretari s...\n",
       "3      berni support twitter erupt anger dnc 'we tri ...\n",
       "4      battl new york primari matter primari day new ...\n",
       "...                                                  ...\n",
       "26533  rapper t.i trump poster child white supremaci ...\n",
       "26534  n.f.l playoff schedul matchup odd new york tim...\n",
       "26535  maci said receiv takeov approach hudson bay ne...\n",
       "26536  nato russia hold parallel exercis balkan nato ...\n",
       "26537  keep f-35 aliv david swanson author activist j...\n",
       "\n",
       "[26538 rows x 1 columns]"
      ]
     },
     "execution_count": 42,
     "metadata": {},
     "output_type": "execute_result"
    }
   ],
   "source": [
    "stem_text = pd.read_csv('stem_text.csv')\n",
    "stem_text.drop(columns='Unnamed: 0', inplace=True)\n",
    "stem_text"
   ]
  },
  {
   "cell_type": "code",
   "execution_count": 43,
   "metadata": {},
   "outputs": [],
   "source": [
    "X_train, X_test, y_train, y_test = train_test_split(stem_text['text'], main['label'], random_state=1, \n",
    "                                                    shuffle=True, train_size=0.7)\n",
    "\n",
    "vec_train=tfidf_vectorizer.fit_transform(X_train)\n",
    "vec_test=tfidf_vectorizer.transform(X_test)"
   ]
  },
  {
   "cell_type": "code",
   "execution_count": 70,
   "metadata": {},
   "outputs": [
    {
     "data": {
      "text/plain": [
       "PassiveAggressiveClassifier(C=0.045, class_weight='balanced', random_state=1)"
      ]
     },
     "execution_count": 70,
     "metadata": {},
     "output_type": "execute_result"
    }
   ],
   "source": [
    "pacStem=PassiveAggressiveClassifier(max_iter=1000, random_state=1, C=.045, class_weight='balanced', shuffle=True)\n",
    "pacStem.fit(vec_train, y_train)"
   ]
  },
  {
   "cell_type": "code",
   "execution_count": 71,
   "metadata": {},
   "outputs": [
    {
     "data": {
      "text/plain": [
       "0.9586787239387089"
      ]
     },
     "execution_count": 71,
     "metadata": {},
     "output_type": "execute_result"
    }
   ],
   "source": [
    "ypredstem = pacStem.predict(vec_test)\n",
    "score = accuracy_score(y_test, ypredstem)\n",
    "score"
   ]
  },
  {
   "cell_type": "markdown",
   "metadata": {},
   "source": [
    "---\n",
    "### Random Forest with gridsearchcv"
   ]
  },
  {
   "cell_type": "code",
   "execution_count": 72,
   "metadata": {},
   "outputs": [],
   "source": [
    "from sklearn.ensemble import RandomForestClassifier"
   ]
  },
  {
   "cell_type": "code",
   "execution_count": 77,
   "metadata": {},
   "outputs": [
    {
     "name": "stderr",
     "output_type": "stream",
     "text": [
      "[Parallel(n_jobs=-1)]: Using backend ThreadingBackend with 4 concurrent workers.\n",
      "[Parallel(n_jobs=-1)]: Done  42 tasks      | elapsed:   11.1s\n",
      "[Parallel(n_jobs=-1)]: Done 100 out of 100 | elapsed:   24.9s finished\n",
      "[Parallel(n_jobs=4)]: Using backend ThreadingBackend with 4 concurrent workers.\n",
      "[Parallel(n_jobs=4)]: Done  42 tasks      | elapsed:    0.5s\n",
      "[Parallel(n_jobs=4)]: Done 100 out of 100 | elapsed:    1.2s finished\n"
     ]
    },
    {
     "data": {
      "text/plain": [
       "0.9318010550113037"
      ]
     },
     "execution_count": 77,
     "metadata": {},
     "output_type": "execute_result"
    }
   ],
   "source": [
    "X = main['text']\n",
    "y = main['label']\n",
    "\n",
    "X_train, X_test, y_train, y_test = train_test_split(X, y, \n",
    "                                                    train_size = 0.7, random_state=1, shuffle=True)\n",
    "\n",
    "vec_train=tfidf_vectorizer.fit_transform(X_train)\n",
    "vec_test=tfidf_vectorizer.transform(X_test)\n",
    "\n",
    "rfc = RandomForestClassifier(verbose=1, n_jobs=-1, random_state=1)\n",
    "rfc.fit(vec_train, y_train)\n",
    "ypred = rfc.predict(vec_test)\n",
    "accuracy_score(y_test, ypred)"
   ]
  },
  {
   "cell_type": "code",
   "execution_count": 80,
   "metadata": {
    "scrolled": false
   },
   "outputs": [
    {
     "name": "stdout",
     "output_type": "stream",
     "text": [
      "Fitting 3 folds for each of 60 candidates, totalling 180 fits\n"
     ]
    },
    {
     "name": "stderr",
     "output_type": "stream",
     "text": [
      "[Parallel(n_jobs=-1)]: Using backend LokyBackend with 4 concurrent workers.\n",
      "[Parallel(n_jobs=-1)]: Done  42 tasks      | elapsed:  2.8min\n",
      "[Parallel(n_jobs=-1)]: Done 180 out of 180 | elapsed: 27.1min finished\n",
      "[Parallel(n_jobs=-1)]: Using backend ThreadingBackend with 4 concurrent workers.\n",
      "[Parallel(n_jobs=-1)]: Done  42 tasks      | elapsed:    6.8s\n",
      "[Parallel(n_jobs=-1)]: Done 175 out of 175 | elapsed:   27.3s finished\n"
     ]
    },
    {
     "data": {
      "text/plain": [
       "GridSearchCV(cv=3,\n",
       "             estimator=RandomForestClassifier(n_jobs=-1, random_state=1,\n",
       "                                              verbose=1),\n",
       "             n_jobs=-1,\n",
       "             param_grid={'criterion': ['gini', 'entropy'],\n",
       "                         'max_depth': range(5, 50, 10),\n",
       "                         'n_estimators': range(50, 200, 25)},\n",
       "             verbose=1)"
      ]
     },
     "execution_count": 80,
     "metadata": {},
     "output_type": "execute_result"
    }
   ],
   "source": [
    "rfc = RandomForestClassifier(verbose=1, n_jobs=-1, random_state=1)\n",
    "param = {'n_estimators': range(50,200,25),\n",
    "         'max_depth' : range(5,50,10),\n",
    "         'criterion': ['gini', 'entropy']}\n",
    "rfcgs = GridSearchCV(rfc, param, n_jobs=-1, verbose=1, cv=3)\n",
    "rfcgs.fit(vec_train, y_train)"
   ]
  },
  {
   "cell_type": "code",
   "execution_count": 81,
   "metadata": {},
   "outputs": [
    {
     "data": {
      "text/plain": [
       "{'criterion': 'entropy', 'max_depth': 45, 'n_estimators': 175}"
      ]
     },
     "execution_count": 81,
     "metadata": {},
     "output_type": "execute_result"
    }
   ],
   "source": [
    "rfcgs.best_params_"
   ]
  },
  {
   "cell_type": "code",
   "execution_count": 83,
   "metadata": {},
   "outputs": [
    {
     "name": "stderr",
     "output_type": "stream",
     "text": [
      "[Parallel(n_jobs=-1)]: Using backend ThreadingBackend with 4 concurrent workers.\n",
      "[Parallel(n_jobs=-1)]: Done  42 tasks      | elapsed:   11.3s\n",
      "[Parallel(n_jobs=-1)]: Done 175 out of 175 | elapsed:   48.3s finished\n",
      "[Parallel(n_jobs=4)]: Using backend ThreadingBackend with 4 concurrent workers.\n",
      "[Parallel(n_jobs=4)]: Done  42 tasks      | elapsed:    0.7s\n",
      "[Parallel(n_jobs=4)]: Done 175 out of 175 | elapsed:    2.8s finished\n"
     ]
    },
    {
     "data": {
      "text/plain": [
       "0.9351921627731725"
      ]
     },
     "execution_count": 83,
     "metadata": {},
     "output_type": "execute_result"
    }
   ],
   "source": [
    "rfc = RandomForestClassifier(criterion = 'entropy', max_depth = 100,\n",
    "                             verbose=1, n_jobs=-1, random_state=1,\n",
    "                            n_estimators=175)\n",
    "rfc.fit(vec_train,y_train)\n",
    "ypred = rfc.predict(vec_test)\n",
    "accuracy_score(y_test, ypred)"
   ]
  },
  {
   "cell_type": "code",
   "execution_count": null,
   "metadata": {},
   "outputs": [],
   "source": []
  },
  {
   "cell_type": "code",
   "execution_count": null,
   "metadata": {},
   "outputs": [],
   "source": []
  },
  {
   "cell_type": "markdown",
   "metadata": {},
   "source": [
    "---\n",
    "- PAC performed best "
   ]
  },
  {
   "cell_type": "markdown",
   "metadata": {},
   "source": [
    "---\n",
    "### Visualization"
   ]
  },
  {
   "cell_type": "code",
   "execution_count": 15,
   "metadata": {},
   "outputs": [],
   "source": [
    "freq_fake = main[main['label']==1]\n",
    "freq_real = main[main['label']==0]"
   ]
  },
  {
   "cell_type": "code",
   "execution_count": 16,
   "metadata": {},
   "outputs": [],
   "source": [
    "data_fake = freq_fake['text']\n",
    "data_real = freq_real['text']"
   ]
  },
  {
   "cell_type": "code",
   "execution_count": 17,
   "metadata": {},
   "outputs": [],
   "source": [
    "def process_article1(article):\n",
    "    article = article.lower()\n",
    "    tokens = nltk.word_tokenize(article)\n",
    "    stopwords_removed = [token.lower() for token in tokens if token.lower() not in stopwords]\n",
    "    return stopwords_removed\n",
    "cleaned_fake = list(map(process_article1, data_fake))\n",
    "cleaned_real = list(map(process_article1, data_real))"
   ]
  },
  {
   "cell_type": "code",
   "execution_count": 18,
   "metadata": {},
   "outputs": [],
   "source": [
    "flat_fake = [item for sublist in cleaned_fake for item in sublist]\n",
    "flat_true = [item for sublist in cleaned_real for item in sublist]"
   ]
  },
  {
   "cell_type": "code",
   "execution_count": 21,
   "metadata": {},
   "outputs": [],
   "source": [
    "fake_freq = FreqDist(flat_fake)\n",
    "real_freq = FreqDist(flat_true)"
   ]
  },
  {
   "cell_type": "code",
   "execution_count": 27,
   "metadata": {
    "scrolled": true
   },
   "outputs": [
    {
     "data": {
      "text/plain": [
       "[('trump', 27733),\n",
       " ('clinton', 26677),\n",
       " ('people', 21789),\n",
       " ('one', 20432),\n",
       " ('us', 19435),\n",
       " ('would', 19401),\n",
       " ('hillary', 18448),\n",
       " ('said', 15771),\n",
       " ('new', 14360),\n",
       " ('like', 13284),\n",
       " ('also', 13031),\n",
       " ('world', 12284),\n",
       " ('even', 11656),\n",
       " ('election', 11485),\n",
       " ('time', 11482),\n",
       " ('state', 11233),\n",
       " ('``', 11093),\n",
       " ('—', 10786),\n",
       " ('government', 10540),\n",
       " ('many', 10518),\n",
       " ('president', 10460),\n",
       " ('could', 10126),\n",
       " ('2016', 10116),\n",
       " ('war', 9970),\n",
       " ('obama', 9890),\n",
       " ('‘', 9477),\n",
       " ('russia', 8993),\n",
       " ('american', 8970),\n",
       " ('states', 8752),\n",
       " ('media', 8650),\n",
       " ('years', 8582),\n",
       " ('get', 8433),\n",
       " ('first', 8414),\n",
       " ('campaign', 8097),\n",
       " ('u.s.', 8096),\n",
       " ('know', 7835),\n",
       " ('may', 7827),\n",
       " ('two', 7559),\n",
       " ('donald', 7452),\n",
       " ('news', 7373),\n",
       " ('america', 7340),\n",
       " ('way', 7213),\n",
       " ('fbi', 7183),\n",
       " ('see', 7177),\n",
       " ('make', 7121),\n",
       " ('country', 7058),\n",
       " ('going', 6915),\n",
       " ('political', 6886),\n",
       " ('de', 6685),\n",
       " ('united', 6658),\n",
       " ('well', 6644),\n",
       " ('think', 6517),\n",
       " ('much', 6433),\n",
       " ('right', 6239),\n",
       " ('back', 6153),\n",
       " ('white', 6144),\n",
       " ('take', 6136),\n",
       " ('day', 6061),\n",
       " ('public', 5877),\n",
       " ('since', 5735),\n",
       " ('last', 5729),\n",
       " ('made', 5627),\n",
       " ('power', 5617),\n",
       " ('go', 5594),\n",
       " ('military', 5465),\n",
       " ('say', 5425),\n",
       " ('year', 5419),\n",
       " ('another', 5383),\n",
       " ('according', 5343),\n",
       " ('want', 5325),\n",
       " ('october', 5298),\n",
       " ('national', 5254),\n",
       " ('russian', 5245),\n",
       " ('use', 5191),\n",
       " ('never', 5105),\n",
       " ('system', 5096),\n",
       " ('email', 5086),\n",
       " ('still', 5081),\n",
       " ('good', 5037),\n",
       " ('need', 5008),\n",
       " ('every', 5002),\n",
       " ('house', 4983),\n",
       " ('syria', 4979),\n",
       " ('support', 4950),\n",
       " ('party', 4927),\n",
       " ('emails', 4874),\n",
       " ('vote', 4866),\n",
       " ('americans', 4783),\n",
       " ('law', 4753),\n",
       " ('work', 4747),\n",
       " ('fact', 4690),\n",
       " ('told', 4661),\n",
       " ('police', 4656),\n",
       " ('money', 4646),\n",
       " ('life', 4619),\n",
       " ('around', 4593),\n",
       " ('presidential', 4530),\n",
       " ('times', 4518),\n",
       " ('today', 4488),\n",
       " ('part', 4413),\n",
       " ('information', 4380),\n",
       " ('november', 4359),\n",
       " ('used', 4299),\n",
       " ('however', 4297),\n",
       " ('change', 4255),\n",
       " ('black', 4192),\n",
       " ('policy', 4178),\n",
       " ('really', 4156),\n",
       " ('come', 4125),\n",
       " ('washington', 4113),\n",
       " ('without', 4109),\n",
       " ('women', 4073),\n",
       " ('man', 4071),\n",
       " ('foreign', 4055),\n",
       " ('things', 4020),\n",
       " ('case', 4001),\n",
       " ('federal', 3997),\n",
       " ('end', 3992),\n",
       " ('long', 3940),\n",
       " ('investigation', 3928),\n",
       " ('found', 3895),\n",
       " ('former', 3885),\n",
       " ('democratic', 3870),\n",
       " ('next', 3860),\n",
       " ('already', 3853),\n",
       " ('including', 3816),\n",
       " ('says', 3810),\n",
       " ('help', 3806),\n",
       " ('million', 3795),\n",
       " ('real', 3793),\n",
       " ('la', 3767),\n",
       " ('might', 3762),\n",
       " ('something', 3761),\n",
       " ('believe', 3726),\n",
       " ('video', 3711),\n",
       " ('free', 3709),\n",
       " ('must', 3661),\n",
       " ('order', 3645),\n",
       " ('control', 3627),\n",
       " ('security', 3626),\n",
       " ('great', 3619),\n",
       " ('percent', 3615),\n",
       " ('look', 3608),\n",
       " ('report', 3595),\n",
       " ('bill', 3589),\n",
       " ('article', 3553),\n",
       " ('put', 3540),\n",
       " ('в', 3537),\n",
       " ('point', 3487),\n",
       " ('human', 3483),\n",
       " ('called', 3477),\n",
       " ('group', 3472),\n",
       " ('department', 3446),\n",
       " ('yet', 3411),\n",
       " ('place', 3409),\n",
       " ('far', 3399),\n",
       " ('become', 3396),\n",
       " ('water', 3393),\n",
       " ('let', 3388),\n",
       " ('days', 3376),\n",
       " ('actually', 3372),\n",
       " ('history', 3367),\n",
       " ('republican', 3356),\n",
       " ('children', 3352),\n",
       " ('comey', 3343),\n",
       " ('left', 3300),\n",
       " ('global', 3258),\n",
       " ('post', 3239),\n",
       " ('health', 3221),\n",
       " ('candidate', 3198),\n",
       " ('source', 3184),\n",
       " ('economic', 3167),\n",
       " ('rights', 3151),\n",
       " ('nation', 3122),\n",
       " ('least', 3117),\n",
       " ('john', 3116),\n",
       " ('nothing', 3108),\n",
       " ('general', 3098),\n",
       " ('china', 3092),\n",
       " ('ever', 3082),\n",
       " ('course', 3075),\n",
       " ('1', 3073),\n",
       " ('show', 3054),\n",
       " ('social', 3048),\n",
       " ('evidence', 3047),\n",
       " (\"n't\", 3044),\n",
       " ('big', 3024),\n",
       " ('countries', 3018),\n",
       " ('city', 3015),\n",
       " ('home', 3014),\n",
       " ('keep', 2999),\n",
       " ('voters', 2999),\n",
       " ('thing', 2993),\n",
       " ('family', 2987),\n",
       " ('voting', 2987),\n",
       " ('three', 2976),\n",
       " ('office', 2948),\n",
       " ('share', 2941),\n",
       " ('important', 2941),\n",
       " ('international', 2937)]"
      ]
     },
     "execution_count": 27,
     "metadata": {},
     "output_type": "execute_result"
    }
   ],
   "source": [
    "fake_freq.most_common(200)"
   ]
  },
  {
   "cell_type": "code",
   "execution_count": 23,
   "metadata": {},
   "outputs": [
    {
     "data": {
      "text/plain": [
       "[('said', 85402),\n",
       " ('mr.', 65016),\n",
       " ('trump', 54317),\n",
       " ('—', 45436),\n",
       " ('new', 32252),\n",
       " ('would', 30922),\n",
       " ('one', 29028),\n",
       " ('people', 26299),\n",
       " ('president', 23089),\n",
       " ('also', 20565),\n",
       " ('like', 19950),\n",
       " ('clinton', 19352),\n",
       " ('state', 17756),\n",
       " ('``', 17201),\n",
       " ('could', 16249),\n",
       " ('time', 15583),\n",
       " ('states', 14986),\n",
       " ('two', 14867),\n",
       " ('many', 14585),\n",
       " ('york', 14437)]"
      ]
     },
     "execution_count": 23,
     "metadata": {},
     "output_type": "execute_result"
    }
   ],
   "source": [
    "real_freq.most_common(20)"
   ]
  },
  {
   "cell_type": "code",
   "execution_count": 24,
   "metadata": {},
   "outputs": [],
   "source": [
    "fake_bar_counts = [x[1] for x in fake_freq.most_common(25)]\n",
    "fake_bar_words = [x[0] for x in fake_freq.most_common(25)]\n",
    "\n",
    "real_bar_counts = [x[1] for x in real_freq.most_common(25)]\n",
    "real_bar_words = [x[0] for x in real_freq.most_common(25)]"
   ]
  },
  {
   "cell_type": "code",
   "execution_count": 25,
   "metadata": {},
   "outputs": [
    {
     "data": {
      "image/png": "[encoded data removed]",
      "text/plain": [
       "<Figure size 1152x288 with 2 Axes>"
      ]
     },
     "metadata": {
      "needs_background": "light"
     },
     "output_type": "display_data"
    }
   ],
   "source": [
    "new_figure = plt.figure(figsize=(16,4))\n",
    "\n",
    "ax = new_figure.add_subplot(121)\n",
    "ax2 = new_figure.add_subplot(122)\n",
    "\n",
    "# Generate a line plot on first axes\n",
    "ax.bar(fake_bar_words, fake_bar_counts)\n",
    "# ax.plot(colormap='PRGn')\n",
    "\n",
    "# Draw a scatter plot on 2nd axes\n",
    "ax2.bar(real_bar_words, real_bar_counts)\n",
    "\n",
    "ax.title.set_text('Fake')\n",
    "ax2.title.set_text('Real')\n",
    "\n",
    "for ax in new_figure.axes:\n",
    "    plt.sca(ax)\n",
    "    plt.xticks(rotation=60)\n",
    "\n",
    "plt.tight_layout(pad=0)\n",
    "\n",
    "# plt.savefig('word count bar graphs.png')\n",
    "\n",
    "plt.show()"
   ]
  },
  {
   "cell_type": "code",
   "execution_count": null,
   "metadata": {},
   "outputs": [],
   "source": []
  }
 ],
 "metadata": {
  "kernelspec": {
   "display_name": "Python 3",
   "language": "python",
   "name": "python3"
  },
  "language_info": {
   "codemirror_mode": {
    "name": "ipython",
    "version": 3
   },
   "file_extension": ".py",
   "mimetype": "text/x-python",
   "name": "python",
   "nbconvert_exporter": "python",
   "pygments_lexer": "ipython3",
   "version": "3.8.3"
  }
 },
 "nbformat": 4,
 "nbformat_minor": 4
}
