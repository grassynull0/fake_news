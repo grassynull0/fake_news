{
 "cells": [
  {
   "cell_type": "markdown",
   "metadata": {},
   "source": [
    "# Fake News Classification \n",
    "by Ben Inoyatov\n",
    "### This notebook will load in, clean, and wrangle two datasets to prepare for NLP and modeling \n",
    "- First, two datasets will be merged together and stripped of any unncessary columns to create a ```main``` data set. \n",
    "- ```title``` and ```text``` will be merged together in the ```text``` column\n",
    "- In addition to tokenizing and downcasing, sentiment analysis will also be added to the features.\n",
    "- Stemming and Lemming will be two different datasets so that performance can be tracked among different techniques\n",
    "- Topic modelling will also be explored to understand the business case better i.e., what actually is 'Fake News'."
   ]
  },
  {
   "cell_type": "code",
   "execution_count": 1,
   "metadata": {},
   "outputs": [
    {
     "name": "stderr",
     "output_type": "stream",
     "text": [
      "/opt/anaconda3/lib/python3.8/site-packages/tqdm/std.py:670: FutureWarning: The Panel class is removed from pandas. Accessing it from the top-level namespace will also be removed in the next version\n",
      "  from pandas import Panel\n"
     ]
    }
   ],
   "source": [
    "# importing standard libraries \n",
    "import pandas as pd\n",
    "from tqdm import tqdm # progress tracker\n",
    "tqdm.pandas()"
   ]
  },
  {
   "cell_type": "code",
   "execution_count": 2,
   "metadata": {},
   "outputs": [],
   "source": [
    "# two seperate pre-made datasets to concatinate after cleaning for NLP and modeling\n",
    "first = pd.read_csv('news.csv')\n",
    "second = pd.read_csv('train.csv')"
   ]
  },
  {
   "cell_type": "code",
   "execution_count": 3,
   "metadata": {},
   "outputs": [
    {
     "data": {
      "text/html": [
       "<div>\n",
       "<style scoped>\n",
       "    .dataframe tbody tr th:only-of-type {\n",
       "        vertical-align: middle;\n",
       "    }\n",
       "\n",
       "    .dataframe tbody tr th {\n",
       "        vertical-align: top;\n",
       "    }\n",
       "\n",
       "    .dataframe thead th {\n",
       "        text-align: right;\n",
       "    }\n",
       "</style>\n",
       "<table border=\"1\" class=\"dataframe\">\n",
       "  <thead>\n",
       "    <tr style=\"text-align: right;\">\n",
       "      <th></th>\n",
       "      <th>Unnamed: 0</th>\n",
       "      <th>title</th>\n",
       "      <th>text</th>\n",
       "      <th>label</th>\n",
       "    </tr>\n",
       "  </thead>\n",
       "  <tbody>\n",
       "    <tr>\n",
       "      <th>0</th>\n",
       "      <td>8476</td>\n",
       "      <td>You Can Smell Hillary’s Fear</td>\n",
       "      <td>Daniel Greenfield, a Shillman Journalism Fello...</td>\n",
       "      <td>FAKE</td>\n",
       "    </tr>\n",
       "    <tr>\n",
       "      <th>1</th>\n",
       "      <td>10294</td>\n",
       "      <td>Watch The Exact Moment Paul Ryan Committed Pol...</td>\n",
       "      <td>Google Pinterest Digg Linkedin Reddit Stumbleu...</td>\n",
       "      <td>FAKE</td>\n",
       "    </tr>\n",
       "    <tr>\n",
       "      <th>2</th>\n",
       "      <td>3608</td>\n",
       "      <td>Kerry to go to Paris in gesture of sympathy</td>\n",
       "      <td>U.S. Secretary of State John F. Kerry said Mon...</td>\n",
       "      <td>REAL</td>\n",
       "    </tr>\n",
       "    <tr>\n",
       "      <th>3</th>\n",
       "      <td>10142</td>\n",
       "      <td>Bernie supporters on Twitter erupt in anger ag...</td>\n",
       "      <td>— Kaydee King (@KaydeeKing) November 9, 2016 T...</td>\n",
       "      <td>FAKE</td>\n",
       "    </tr>\n",
       "    <tr>\n",
       "      <th>4</th>\n",
       "      <td>875</td>\n",
       "      <td>The Battle of New York: Why This Primary Matters</td>\n",
       "      <td>It's primary day in New York and front-runners...</td>\n",
       "      <td>REAL</td>\n",
       "    </tr>\n",
       "  </tbody>\n",
       "</table>\n",
       "</div>"
      ],
      "text/plain": [
       "   Unnamed: 0                                              title  \\\n",
       "0        8476                       You Can Smell Hillary’s Fear   \n",
       "1       10294  Watch The Exact Moment Paul Ryan Committed Pol...   \n",
       "2        3608        Kerry to go to Paris in gesture of sympathy   \n",
       "3       10142  Bernie supporters on Twitter erupt in anger ag...   \n",
       "4         875   The Battle of New York: Why This Primary Matters   \n",
       "\n",
       "                                                text label  \n",
       "0  Daniel Greenfield, a Shillman Journalism Fello...  FAKE  \n",
       "1  Google Pinterest Digg Linkedin Reddit Stumbleu...  FAKE  \n",
       "2  U.S. Secretary of State John F. Kerry said Mon...  REAL  \n",
       "3  — Kaydee King (@KaydeeKing) November 9, 2016 T...  FAKE  \n",
       "4  It's primary day in New York and front-runners...  REAL  "
      ]
     },
     "execution_count": 3,
     "metadata": {},
     "output_type": "execute_result"
    }
   ],
   "source": [
    "first.head()"
   ]
  },
  {
   "cell_type": "markdown",
   "metadata": {},
   "source": [
    "- At first glance:\n",
    "  - change the label to 1s and 0s \n",
    "  - join the title and text "
   ]
  },
  {
   "cell_type": "code",
   "execution_count": 4,
   "metadata": {},
   "outputs": [
    {
     "data": {
      "text/html": [
       "<div>\n",
       "<style scoped>\n",
       "    .dataframe tbody tr th:only-of-type {\n",
       "        vertical-align: middle;\n",
       "    }\n",
       "\n",
       "    .dataframe tbody tr th {\n",
       "        vertical-align: top;\n",
       "    }\n",
       "\n",
       "    .dataframe thead th {\n",
       "        text-align: right;\n",
       "    }\n",
       "</style>\n",
       "<table border=\"1\" class=\"dataframe\">\n",
       "  <thead>\n",
       "    <tr style=\"text-align: right;\">\n",
       "      <th></th>\n",
       "      <th>id</th>\n",
       "      <th>title</th>\n",
       "      <th>author</th>\n",
       "      <th>text</th>\n",
       "      <th>label</th>\n",
       "    </tr>\n",
       "  </thead>\n",
       "  <tbody>\n",
       "    <tr>\n",
       "      <th>0</th>\n",
       "      <td>0</td>\n",
       "      <td>House Dem Aide: We Didn’t Even See Comey’s Let...</td>\n",
       "      <td>Darrell Lucus</td>\n",
       "      <td>House Dem Aide: We Didn’t Even See Comey’s Let...</td>\n",
       "      <td>1</td>\n",
       "    </tr>\n",
       "    <tr>\n",
       "      <th>1</th>\n",
       "      <td>1</td>\n",
       "      <td>FLYNN: Hillary Clinton, Big Woman on Campus - ...</td>\n",
       "      <td>Daniel J. Flynn</td>\n",
       "      <td>Ever get the feeling your life circles the rou...</td>\n",
       "      <td>0</td>\n",
       "    </tr>\n",
       "    <tr>\n",
       "      <th>2</th>\n",
       "      <td>2</td>\n",
       "      <td>Why the Truth Might Get You Fired</td>\n",
       "      <td>Consortiumnews.com</td>\n",
       "      <td>Why the Truth Might Get You Fired October 29, ...</td>\n",
       "      <td>1</td>\n",
       "    </tr>\n",
       "    <tr>\n",
       "      <th>3</th>\n",
       "      <td>3</td>\n",
       "      <td>15 Civilians Killed In Single US Airstrike Hav...</td>\n",
       "      <td>Jessica Purkiss</td>\n",
       "      <td>Videos 15 Civilians Killed In Single US Airstr...</td>\n",
       "      <td>1</td>\n",
       "    </tr>\n",
       "    <tr>\n",
       "      <th>4</th>\n",
       "      <td>4</td>\n",
       "      <td>Iranian woman jailed for fictional unpublished...</td>\n",
       "      <td>Howard Portnoy</td>\n",
       "      <td>Print \\nAn Iranian woman has been sentenced to...</td>\n",
       "      <td>1</td>\n",
       "    </tr>\n",
       "  </tbody>\n",
       "</table>\n",
       "</div>"
      ],
      "text/plain": [
       "   id                                              title              author  \\\n",
       "0   0  House Dem Aide: We Didn’t Even See Comey’s Let...       Darrell Lucus   \n",
       "1   1  FLYNN: Hillary Clinton, Big Woman on Campus - ...     Daniel J. Flynn   \n",
       "2   2                  Why the Truth Might Get You Fired  Consortiumnews.com   \n",
       "3   3  15 Civilians Killed In Single US Airstrike Hav...     Jessica Purkiss   \n",
       "4   4  Iranian woman jailed for fictional unpublished...      Howard Portnoy   \n",
       "\n",
       "                                                text  label  \n",
       "0  House Dem Aide: We Didn’t Even See Comey’s Let...      1  \n",
       "1  Ever get the feeling your life circles the rou...      0  \n",
       "2  Why the Truth Might Get You Fired October 29, ...      1  \n",
       "3  Videos 15 Civilians Killed In Single US Airstr...      1  \n",
       "4  Print \\nAn Iranian woman has been sentenced to...      1  "
      ]
     },
     "execution_count": 4,
     "metadata": {},
     "output_type": "execute_result"
    }
   ],
   "source": [
    "second.head()"
   ]
  },
  {
   "cell_type": "markdown",
   "metadata": {},
   "source": [
    "- label of 1 is unreliabe/fake\n",
    "- author is not needed but like with the first df, title and text will be merged\n",
    "---"
   ]
  },
  {
   "cell_type": "code",
   "execution_count": 5,
   "metadata": {},
   "outputs": [
    {
     "name": "stdout",
     "output_type": "stream",
     "text": [
      "(6335, 4)\n",
      "(20800, 5)\n"
     ]
    }
   ],
   "source": [
    "print(first.shape)\n",
    "print(second.shape)"
   ]
  },
  {
   "cell_type": "markdown",
   "metadata": {},
   "source": [
    "#### Total observations should be 27135"
   ]
  },
  {
   "cell_type": "code",
   "execution_count": 6,
   "metadata": {},
   "outputs": [],
   "source": [
    "first['text'] = first['title'] + ' ' + first['text']      # joining title and text \n",
    "second['text'] = second['title'] + ' ' + second['text']   \n",
    "first = first[['text', 'label']]                          # only using text and label\n",
    "second = second[['text', 'label']]\n",
    "first['label'] = first['label'].apply(lambda x: 1 if x == 'FAKE' else 0) # changing categorical variables to numeric"
   ]
  },
  {
   "cell_type": "code",
   "execution_count": 7,
   "metadata": {},
   "outputs": [],
   "source": [
    "# concatinating first and second dfs with text and label. \n",
    "frames = [first, second] \n",
    "main = pd.concat(frames, ignore_index=True)"
   ]
  },
  {
   "cell_type": "code",
   "execution_count": 8,
   "metadata": {},
   "outputs": [
    {
     "data": {
      "text/html": [
       "<div>\n",
       "<style scoped>\n",
       "    .dataframe tbody tr th:only-of-type {\n",
       "        vertical-align: middle;\n",
       "    }\n",
       "\n",
       "    .dataframe tbody tr th {\n",
       "        vertical-align: top;\n",
       "    }\n",
       "\n",
       "    .dataframe thead th {\n",
       "        text-align: right;\n",
       "    }\n",
       "</style>\n",
       "<table border=\"1\" class=\"dataframe\">\n",
       "  <thead>\n",
       "    <tr style=\"text-align: right;\">\n",
       "      <th></th>\n",
       "      <th>text</th>\n",
       "      <th>label</th>\n",
       "    </tr>\n",
       "  </thead>\n",
       "  <tbody>\n",
       "    <tr>\n",
       "      <th>0</th>\n",
       "      <td>You Can Smell Hillary’s Fear Daniel Greenfield...</td>\n",
       "      <td>1</td>\n",
       "    </tr>\n",
       "    <tr>\n",
       "      <th>1</th>\n",
       "      <td>Watch The Exact Moment Paul Ryan Committed Pol...</td>\n",
       "      <td>1</td>\n",
       "    </tr>\n",
       "    <tr>\n",
       "      <th>2</th>\n",
       "      <td>Kerry to go to Paris in gesture of sympathy U....</td>\n",
       "      <td>0</td>\n",
       "    </tr>\n",
       "    <tr>\n",
       "      <th>3</th>\n",
       "      <td>Bernie supporters on Twitter erupt in anger ag...</td>\n",
       "      <td>1</td>\n",
       "    </tr>\n",
       "    <tr>\n",
       "      <th>4</th>\n",
       "      <td>The Battle of New York: Why This Primary Matte...</td>\n",
       "      <td>0</td>\n",
       "    </tr>\n",
       "    <tr>\n",
       "      <th>...</th>\n",
       "      <td>...</td>\n",
       "      <td>...</td>\n",
       "    </tr>\n",
       "    <tr>\n",
       "      <th>27130</th>\n",
       "      <td>Rapper T.I.: Trump a ’Poster Child For White S...</td>\n",
       "      <td>0</td>\n",
       "    </tr>\n",
       "    <tr>\n",
       "      <th>27131</th>\n",
       "      <td>N.F.L. Playoffs: Schedule, Matchups and Odds -...</td>\n",
       "      <td>0</td>\n",
       "    </tr>\n",
       "    <tr>\n",
       "      <th>27132</th>\n",
       "      <td>Macy’s Is Said to Receive Takeover Approach by...</td>\n",
       "      <td>0</td>\n",
       "    </tr>\n",
       "    <tr>\n",
       "      <th>27133</th>\n",
       "      <td>NATO, Russia To Hold Parallel Exercises In Bal...</td>\n",
       "      <td>1</td>\n",
       "    </tr>\n",
       "    <tr>\n",
       "      <th>27134</th>\n",
       "      <td>What Keeps the F-35 Alive   David Swanson is a...</td>\n",
       "      <td>1</td>\n",
       "    </tr>\n",
       "  </tbody>\n",
       "</table>\n",
       "<p>27135 rows × 2 columns</p>\n",
       "</div>"
      ],
      "text/plain": [
       "                                                    text  label\n",
       "0      You Can Smell Hillary’s Fear Daniel Greenfield...      1\n",
       "1      Watch The Exact Moment Paul Ryan Committed Pol...      1\n",
       "2      Kerry to go to Paris in gesture of sympathy U....      0\n",
       "3      Bernie supporters on Twitter erupt in anger ag...      1\n",
       "4      The Battle of New York: Why This Primary Matte...      0\n",
       "...                                                  ...    ...\n",
       "27130  Rapper T.I.: Trump a ’Poster Child For White S...      0\n",
       "27131  N.F.L. Playoffs: Schedule, Matchups and Odds -...      0\n",
       "27132  Macy’s Is Said to Receive Takeover Approach by...      0\n",
       "27133  NATO, Russia To Hold Parallel Exercises In Bal...      1\n",
       "27134  What Keeps the F-35 Alive   David Swanson is a...      1\n",
       "\n",
       "[27135 rows x 2 columns]"
      ]
     },
     "execution_count": 8,
     "metadata": {},
     "output_type": "execute_result"
    }
   ],
   "source": [
    "main"
   ]
  },
  {
   "cell_type": "code",
   "execution_count": 9,
   "metadata": {},
   "outputs": [
    {
     "data": {
      "text/plain": [
       "text     597\n",
       "label      0\n",
       "dtype: int64"
      ]
     },
     "execution_count": 9,
     "metadata": {},
     "output_type": "execute_result"
    }
   ],
   "source": [
    "main.isna().sum()"
   ]
  },
  {
   "cell_type": "markdown",
   "metadata": {},
   "source": [
    "#### Only 2% of data has null values and so dropping them seems best "
   ]
  },
  {
   "cell_type": "code",
   "execution_count": 10,
   "metadata": {},
   "outputs": [],
   "source": [
    "main.dropna(inplace=True)"
   ]
  },
  {
   "cell_type": "code",
   "execution_count": 11,
   "metadata": {},
   "outputs": [],
   "source": [
    "main.reset_index(inplace=True, drop=True)"
   ]
  },
  {
   "cell_type": "code",
   "execution_count": 12,
   "metadata": {},
   "outputs": [
    {
     "data": {
      "text/plain": [
       "text     0\n",
       "label    0\n",
       "dtype: int64"
      ]
     },
     "execution_count": 12,
     "metadata": {},
     "output_type": "execute_result"
    }
   ],
   "source": [
    "main.isna().sum()"
   ]
  },
  {
   "cell_type": "markdown",
   "metadata": {},
   "source": [
    "#### Class balance"
   ]
  },
  {
   "cell_type": "code",
   "execution_count": 14,
   "metadata": {
    "scrolled": true
   },
   "outputs": [
    {
     "name": "stderr",
     "output_type": "stream",
     "text": [
      "/opt/anaconda3/lib/python3.8/site-packages/seaborn/_decorators.py:36: FutureWarning: Pass the following variable as a keyword arg: x. From version 0.12, the only valid positional argument will be `data`, and passing other arguments without an explicit keyword will result in an error or misinterpretation.\n",
      "  warnings.warn(\n"
     ]
    },
    {
     "data": {
      "image/png": "[encoded data removed]",
      "text/plain": [
       "<Figure size 432x288 with 1 Axes>"
      ]
     },
     "metadata": {},
     "output_type": "display_data"
    }
   ],
   "source": [
    "import seaborn as sns\n",
    "import matplotlib.pyplot as plt\n",
    "sns.set_theme(style=\"darkgrid\")\n",
    "\n",
    "sns.countplot(main.label, palette='mako')\n",
    "plt.savefig('class_balance.png')"
   ]
  },
  {
   "cell_type": "markdown",
   "metadata": {},
   "source": [
    "- Classes seem very balanced. Using a balanced class_weight in the modelling process should not change results too drastically. \n",
    "---\n"
   ]
  },
  {
   "cell_type": "markdown",
   "metadata": {},
   "source": [
    "## Tokenized with stop words removed, no lemma or stemming yet "
   ]
  },
  {
   "cell_type": "code",
   "execution_count": 15,
   "metadata": {},
   "outputs": [],
   "source": [
    "import nltk"
   ]
  },
  {
   "cell_type": "code",
   "execution_count": 16,
   "metadata": {},
   "outputs": [],
   "source": [
    "# Importing stop words and punctuations to remove from text \n",
    "import string\n",
    "from nltk.corpus import stopwords\n",
    "\n",
    "stopwords = stopwords.words(['english', 'russian'])\n",
    "stopwords += list(string.punctuation)\n",
    "stopwords += ['’', '“', '”', '–', \"'s\", \"''\",\n",
    "              '—', '``', '‘', '``', 'de', 'la',\n",
    "             '1', 'mr.', 'ms.', '1', 'mrs.', 'a.',\n",
    "             'u.', '000', 's.', 'в', \"n't\", '2', '.', 'в']"
   ]
  },
  {
   "cell_type": "code",
   "execution_count": 17,
   "metadata": {},
   "outputs": [],
   "source": [
    "# A function to downcase, tokenize, and remove stopwords\n",
    "def process_article(article):\n",
    "    tokens = nltk.word_tokenize(article)\n",
    "    stopwords_removed = [token.lower() for token in tokens if token.lower() not in stopwords]\n",
    "    return ' '.join(stopwords_removed)"
   ]
  },
  {
   "cell_type": "code",
   "execution_count": 18,
   "metadata": {},
   "outputs": [
    {
     "name": "stderr",
     "output_type": "stream",
     "text": [
      "/opt/anaconda3/lib/python3.8/site-packages/tqdm/std.py:670: FutureWarning: The Panel class is removed from pandas. Accessing it from the top-level namespace will also be removed in the next version\n",
      "  from pandas import Panel\n",
      "100%|██████████| 26538/26538 [23:46<00:00, 18.60it/s]  \n"
     ]
    }
   ],
   "source": [
    "# Using tqdm to track progress\n",
    "from tqdm import tqdm\n",
    "tqdm.pandas()\n",
    "working_text = main.copy()\n",
    "\n",
    "working_text['text'] = main['text'].progress_apply(process_article)"
   ]
  },
  {
   "cell_type": "code",
   "execution_count": 19,
   "metadata": {},
   "outputs": [
    {
     "data": {
      "text/html": [
       "<div>\n",
       "<style scoped>\n",
       "    .dataframe tbody tr th:only-of-type {\n",
       "        vertical-align: middle;\n",
       "    }\n",
       "\n",
       "    .dataframe tbody tr th {\n",
       "        vertical-align: top;\n",
       "    }\n",
       "\n",
       "    .dataframe thead th {\n",
       "        text-align: right;\n",
       "    }\n",
       "</style>\n",
       "<table border=\"1\" class=\"dataframe\">\n",
       "  <thead>\n",
       "    <tr style=\"text-align: right;\">\n",
       "      <th></th>\n",
       "      <th>text</th>\n",
       "      <th>label</th>\n",
       "    </tr>\n",
       "  </thead>\n",
       "  <tbody>\n",
       "    <tr>\n",
       "      <th>0</th>\n",
       "      <td>smell hillary fear daniel greenfield shillman ...</td>\n",
       "      <td>1</td>\n",
       "    </tr>\n",
       "    <tr>\n",
       "      <th>1</th>\n",
       "      <td>watch exact moment paul ryan committed politic...</td>\n",
       "      <td>1</td>\n",
       "    </tr>\n",
       "    <tr>\n",
       "      <th>2</th>\n",
       "      <td>kerry go paris gesture sympathy u.s. secretary...</td>\n",
       "      <td>0</td>\n",
       "    </tr>\n",
       "    <tr>\n",
       "      <th>3</th>\n",
       "      <td>bernie supporters twitter erupt anger dnc 'we ...</td>\n",
       "      <td>1</td>\n",
       "    </tr>\n",
       "    <tr>\n",
       "      <th>4</th>\n",
       "      <td>battle new york primary matters primary day ne...</td>\n",
       "      <td>0</td>\n",
       "    </tr>\n",
       "    <tr>\n",
       "      <th>...</th>\n",
       "      <td>...</td>\n",
       "      <td>...</td>\n",
       "    </tr>\n",
       "    <tr>\n",
       "      <th>26533</th>\n",
       "      <td>rapper t.i trump poster child white supremacy ...</td>\n",
       "      <td>0</td>\n",
       "    </tr>\n",
       "    <tr>\n",
       "      <th>26534</th>\n",
       "      <td>n.f.l playoffs schedule matchups odds new york...</td>\n",
       "      <td>0</td>\n",
       "    </tr>\n",
       "    <tr>\n",
       "      <th>26535</th>\n",
       "      <td>macy said receive takeover approach hudson bay...</td>\n",
       "      <td>0</td>\n",
       "    </tr>\n",
       "    <tr>\n",
       "      <th>26536</th>\n",
       "      <td>nato russia hold parallel exercises balkans na...</td>\n",
       "      <td>1</td>\n",
       "    </tr>\n",
       "    <tr>\n",
       "      <th>26537</th>\n",
       "      <td>keeps f-35 alive david swanson author activist...</td>\n",
       "      <td>1</td>\n",
       "    </tr>\n",
       "  </tbody>\n",
       "</table>\n",
       "<p>26538 rows × 2 columns</p>\n",
       "</div>"
      ],
      "text/plain": [
       "                                                    text  label\n",
       "0      smell hillary fear daniel greenfield shillman ...      1\n",
       "1      watch exact moment paul ryan committed politic...      1\n",
       "2      kerry go paris gesture sympathy u.s. secretary...      0\n",
       "3      bernie supporters twitter erupt anger dnc 'we ...      1\n",
       "4      battle new york primary matters primary day ne...      0\n",
       "...                                                  ...    ...\n",
       "26533  rapper t.i trump poster child white supremacy ...      0\n",
       "26534  n.f.l playoffs schedule matchups odds new york...      0\n",
       "26535  macy said receive takeover approach hudson bay...      0\n",
       "26536  nato russia hold parallel exercises balkans na...      1\n",
       "26537  keeps f-35 alive david swanson author activist...      1\n",
       "\n",
       "[26538 rows x 2 columns]"
      ]
     },
     "execution_count": 19,
     "metadata": {},
     "output_type": "execute_result"
    }
   ],
   "source": [
    "working_text\n",
    "\n",
    "# note 4th column: supporters (no lemming or stemming just stopword removal)"
   ]
  },
  {
   "cell_type": "markdown",
   "metadata": {},
   "source": [
    "### Sentiment Analysis \n",
    "- Subjectivity and polarity will be added as features to ```working_text```\n",
    "- To achieve the most accurate sentiment, the ```main``` df will be used "
   ]
  },
  {
   "cell_type": "code",
   "execution_count": 21,
   "metadata": {},
   "outputs": [],
   "source": [
    "from textblob import TextBlob"
   ]
  },
  {
   "cell_type": "code",
   "execution_count": 22,
   "metadata": {},
   "outputs": [],
   "source": [
    "def subj(series):\n",
    "    blob = TextBlob(series)\n",
    "    return blob.subjectivity\n",
    "def pola(series):\n",
    "    blob=TextBlob(series)\n",
    "    return blob.polarity\n",
    "\n"
   ]
  },
  {
   "cell_type": "code",
   "execution_count": 24,
   "metadata": {},
   "outputs": [
    {
     "name": "stderr",
     "output_type": "stream",
     "text": [
      "100%|██████████| 26538/26538 [08:30<00:00, 52.01it/s] \n"
     ]
    }
   ],
   "source": [
    "working_text['polarity'] = main['text'].progress_apply(pola)"
   ]
  },
  {
   "cell_type": "code",
   "execution_count": 26,
   "metadata": {
    "scrolled": true
   },
   "outputs": [
    {
     "name": "stderr",
     "output_type": "stream",
     "text": [
      "100%|██████████| 26538/26538 [09:27<00:00, 46.78it/s] \n"
     ]
    }
   ],
   "source": [
    "working_text['subjectivity'] = main['text'].progress_apply(subj)"
   ]
  },
  {
   "cell_type": "code",
   "execution_count": 27,
   "metadata": {},
   "outputs": [
    {
     "data": {
      "text/html": [
       "<div>\n",
       "<style scoped>\n",
       "    .dataframe tbody tr th:only-of-type {\n",
       "        vertical-align: middle;\n",
       "    }\n",
       "\n",
       "    .dataframe tbody tr th {\n",
       "        vertical-align: top;\n",
       "    }\n",
       "\n",
       "    .dataframe thead th {\n",
       "        text-align: right;\n",
       "    }\n",
       "</style>\n",
       "<table border=\"1\" class=\"dataframe\">\n",
       "  <thead>\n",
       "    <tr style=\"text-align: right;\">\n",
       "      <th></th>\n",
       "      <th>text</th>\n",
       "      <th>label</th>\n",
       "      <th>polarity</th>\n",
       "      <th>subjectivity</th>\n",
       "    </tr>\n",
       "  </thead>\n",
       "  <tbody>\n",
       "    <tr>\n",
       "      <th>0</th>\n",
       "      <td>smell hillary fear daniel greenfield shillman ...</td>\n",
       "      <td>1</td>\n",
       "      <td>0.059595</td>\n",
       "      <td>0.562654</td>\n",
       "    </tr>\n",
       "    <tr>\n",
       "      <th>1</th>\n",
       "      <td>watch exact moment paul ryan committed politic...</td>\n",
       "      <td>1</td>\n",
       "      <td>0.085219</td>\n",
       "      <td>0.497811</td>\n",
       "    </tr>\n",
       "    <tr>\n",
       "      <th>2</th>\n",
       "      <td>kerry go paris gesture sympathy u.s. secretary...</td>\n",
       "      <td>0</td>\n",
       "      <td>0.102574</td>\n",
       "      <td>0.348775</td>\n",
       "    </tr>\n",
       "    <tr>\n",
       "      <th>3</th>\n",
       "      <td>bernie supporters twitter erupt anger dnc 'we ...</td>\n",
       "      <td>1</td>\n",
       "      <td>0.027543</td>\n",
       "      <td>0.491887</td>\n",
       "    </tr>\n",
       "    <tr>\n",
       "      <th>4</th>\n",
       "      <td>battle new york primary matters primary day ne...</td>\n",
       "      <td>0</td>\n",
       "      <td>0.252738</td>\n",
       "      <td>0.423682</td>\n",
       "    </tr>\n",
       "  </tbody>\n",
       "</table>\n",
       "</div>"
      ],
      "text/plain": [
       "                                                text  label  polarity  \\\n",
       "0  smell hillary fear daniel greenfield shillman ...      1  0.059595   \n",
       "1  watch exact moment paul ryan committed politic...      1  0.085219   \n",
       "2  kerry go paris gesture sympathy u.s. secretary...      0  0.102574   \n",
       "3  bernie supporters twitter erupt anger dnc 'we ...      1  0.027543   \n",
       "4  battle new york primary matters primary day ne...      0  0.252738   \n",
       "\n",
       "   subjectivity  \n",
       "0      0.562654  \n",
       "1      0.497811  \n",
       "2      0.348775  \n",
       "3      0.491887  \n",
       "4      0.423682  "
      ]
     },
     "execution_count": 27,
     "metadata": {},
     "output_type": "execute_result"
    }
   ],
   "source": [
    "working_text.head()"
   ]
  },
  {
   "cell_type": "code",
   "execution_count": 28,
   "metadata": {},
   "outputs": [],
   "source": [
    "working_text.to_csv('working_text.csv')"
   ]
  },
  {
   "cell_type": "markdown",
   "metadata": {},
   "source": [
    "### Lemma "
   ]
  },
  {
   "cell_type": "code",
   "execution_count": null,
   "metadata": {},
   "outputs": [],
   "source": [
    "from nltk.stem import WordNetLemmatizer \n"
   ]
  },
  {
   "cell_type": "code",
   "execution_count": null,
   "metadata": {},
   "outputs": [],
   "source": [
    "lemmatizer = WordNetLemmatizer()"
   ]
  },
  {
   "cell_type": "code",
   "execution_count": null,
   "metadata": {},
   "outputs": [],
   "source": [
    "def lemmafunc(article): \n",
    "    tokens = nltk.word_tokenize(article)\n",
    "    stopwords_removed = [token.lower() for token in tokens if token.lower() not in stopwords]\n",
    "    lemmatized_output = ' '.join([lemmatizer.lemmatize(w) for w in stopwords_removed])\n",
    "    return lemmatized_output"
   ]
  },
  {
   "cell_type": "code",
   "execution_count": null,
   "metadata": {},
   "outputs": [],
   "source": [
    "lemmaText = main['text'].progress_apply(lemmafunc)"
   ]
  },
  {
   "cell_type": "code",
   "execution_count": null,
   "metadata": {
    "scrolled": true
   },
   "outputs": [],
   "source": [
    "lemmaText\n",
    "\n",
    "# note 4th column: supporter (no s due to lemma)"
   ]
  },
  {
   "cell_type": "code",
   "execution_count": null,
   "metadata": {},
   "outputs": [],
   "source": [
    "lemmaText.to_csv('lemma_text.csv')"
   ]
  },
  {
   "cell_type": "markdown",
   "metadata": {},
   "source": [
    "### Stemming"
   ]
  },
  {
   "cell_type": "code",
   "execution_count": null,
   "metadata": {},
   "outputs": [],
   "source": [
    "from nltk.stem import PorterStemmer\n",
    "portstem = PorterStemmer()"
   ]
  },
  {
   "cell_type": "code",
   "execution_count": null,
   "metadata": {},
   "outputs": [],
   "source": [
    "def stemmer(article):\n",
    "    tokens = nltk.word_tokenize(article)\n",
    "    stopwords_removed = [token.lower() for token in tokens if token.lower() not in stopwords]\n",
    "    stem = ' '.join([portstem.stem(w) for w in stopwords_removed])\n",
    "    return stem"
   ]
  },
  {
   "cell_type": "code",
   "execution_count": null,
   "metadata": {},
   "outputs": [],
   "source": [
    "stemText = main['text'].progress_apply(stemmer)"
   ]
  },
  {
   "cell_type": "code",
   "execution_count": null,
   "metadata": {},
   "outputs": [],
   "source": [
    "stemText\n",
    "\n",
    "# note 4th column: support (due to stem)"
   ]
  },
  {
   "cell_type": "code",
   "execution_count": null,
   "metadata": {},
   "outputs": [],
   "source": [
    "stemText.to_csv('stem_text.csv')"
   ]
  },
  {
   "cell_type": "markdown",
   "metadata": {},
   "source": [
    "### Topic Modelling using LDA"
   ]
  },
  {
   "cell_type": "code",
   "execution_count": 34,
   "metadata": {},
   "outputs": [],
   "source": [
    "import gensim"
   ]
  },
  {
   "cell_type": "code",
   "execution_count": 87,
   "metadata": {},
   "outputs": [],
   "source": [
    "lda_fake_clean = working_text[working_text['label'] == 1]['text']\n",
    "lda_true_clean = working_text[working_text['label'] == 0]['text']"
   ]
  },
  {
   "cell_type": "code",
   "execution_count": 98,
   "metadata": {},
   "outputs": [],
   "source": [
    "import re \n",
    "stoper_period='.'\n",
    "lda_fake_clean = [token.lower() for token in lda_fake_clean if token.lower() not in stoper_period]"
   ]
  },
  {
   "cell_type": "code",
   "execution_count": 105,
   "metadata": {},
   "outputs": [],
   "source": [
    "lda_fake_clean = pd.DataFrame(lda_fake_clean, dtype='str')"
   ]
  },
  {
   "cell_type": "code",
   "execution_count": 111,
   "metadata": {},
   "outputs": [
    {
     "data": {
      "text/html": [
       "<div>\n",
       "<style scoped>\n",
       "    .dataframe tbody tr th:only-of-type {\n",
       "        vertical-align: middle;\n",
       "    }\n",
       "\n",
       "    .dataframe tbody tr th {\n",
       "        vertical-align: top;\n",
       "    }\n",
       "\n",
       "    .dataframe thead th {\n",
       "        text-align: right;\n",
       "    }\n",
       "</style>\n",
       "<table border=\"1\" class=\"dataframe\">\n",
       "  <thead>\n",
       "    <tr style=\"text-align: right;\">\n",
       "      <th></th>\n",
       "      <th>0</th>\n",
       "    </tr>\n",
       "  </thead>\n",
       "  <tbody>\n",
       "    <tr>\n",
       "      <th>0</th>\n",
       "      <td>smell hillary fear daniel greenfield shillman ...</td>\n",
       "    </tr>\n",
       "    <tr>\n",
       "      <th>1</th>\n",
       "      <td>watch exact moment paul ryan committed politic...</td>\n",
       "    </tr>\n",
       "    <tr>\n",
       "      <th>2</th>\n",
       "      <td>bernie supporters twitter erupt anger dnc 'we ...</td>\n",
       "    </tr>\n",
       "    <tr>\n",
       "      <th>3</th>\n",
       "      <td>tehran usa immigrant grandparents 50 years ago...</td>\n",
       "    </tr>\n",
       "    <tr>\n",
       "      <th>4</th>\n",
       "      <td>girl horrified watches boyfriend left facetime...</td>\n",
       "    </tr>\n",
       "    <tr>\n",
       "      <th>...</th>\n",
       "      <td>...</td>\n",
       "    </tr>\n",
       "    <tr>\n",
       "      <th>12975</th>\n",
       "      <td>maine gov lepage threatens investigate college...</td>\n",
       "    </tr>\n",
       "    <tr>\n",
       "      <th>12976</th>\n",
       "      <td>lawyer kept hillary campaign chief jail doj hi...</td>\n",
       "    </tr>\n",
       "    <tr>\n",
       "      <th>12977</th>\n",
       "      <td>idiot destroyed trump hollywood star gets exac...</td>\n",
       "    </tr>\n",
       "    <tr>\n",
       "      <th>12978</th>\n",
       "      <td>nato russia hold parallel exercises balkans na...</td>\n",
       "    </tr>\n",
       "    <tr>\n",
       "      <th>12979</th>\n",
       "      <td>keeps f-35 alive david swanson author activist...</td>\n",
       "    </tr>\n",
       "  </tbody>\n",
       "</table>\n",
       "<p>12980 rows × 1 columns</p>\n",
       "</div>"
      ],
      "text/plain": [
       "                                                       0\n",
       "0      smell hillary fear daniel greenfield shillman ...\n",
       "1      watch exact moment paul ryan committed politic...\n",
       "2      bernie supporters twitter erupt anger dnc 'we ...\n",
       "3      tehran usa immigrant grandparents 50 years ago...\n",
       "4      girl horrified watches boyfriend left facetime...\n",
       "...                                                  ...\n",
       "12975  maine gov lepage threatens investigate college...\n",
       "12976  lawyer kept hillary campaign chief jail doj hi...\n",
       "12977  idiot destroyed trump hollywood star gets exac...\n",
       "12978  nato russia hold parallel exercises balkans na...\n",
       "12979  keeps f-35 alive david swanson author activist...\n",
       "\n",
       "[12980 rows x 1 columns]"
      ]
     },
     "execution_count": 111,
     "metadata": {},
     "output_type": "execute_result"
    }
   ],
   "source": [
    "lda_fake_clean"
   ]
  },
  {
   "cell_type": "code",
   "execution_count": 113,
   "metadata": {},
   "outputs": [
    {
     "name": "stderr",
     "output_type": "stream",
     "text": [
      "100%|██████████| 12980/12980 [00:52<00:00, 245.73it/s]\n"
     ]
    }
   ],
   "source": [
    "lda_fake_token = lda_fake_clean[0].progress_apply(lambda row: nltk.word_tokenize(row))"
   ]
  },
  {
   "cell_type": "code",
   "execution_count": 114,
   "metadata": {},
   "outputs": [
    {
     "data": {
      "text/plain": [
       "0        [smell, hillary, fear, daniel, greenfield, shi...\n",
       "1        [watch, exact, moment, paul, ryan, committed, ...\n",
       "2        [bernie, supporters, twitter, erupt, anger, dn...\n",
       "3        [tehran, usa, immigrant, grandparents, 50, yea...\n",
       "4        [girl, horrified, watches, boyfriend, left, fa...\n",
       "                               ...                        \n",
       "12975    [maine, gov, lepage, threatens, investigate, c...\n",
       "12976    [lawyer, kept, hillary, campaign, chief, jail,...\n",
       "12977    [idiot, destroyed, trump, hollywood, star, get...\n",
       "12978    [nato, russia, hold, parallel, exercises, balk...\n",
       "12979    [keeps, f-35, alive, david, swanson, author, a...\n",
       "Name: 0, Length: 12980, dtype: object"
      ]
     },
     "execution_count": 114,
     "metadata": {},
     "output_type": "execute_result"
    }
   ],
   "source": [
    "lda_fake_token"
   ]
  },
  {
   "cell_type": "code",
   "execution_count": 115,
   "metadata": {},
   "outputs": [
    {
     "data": {
      "text/plain": [
       "[(0,\n",
       "  [('one', 0.0042747064),\n",
       "   ('.', 0.003315619),\n",
       "   ('new', 0.0033026263),\n",
       "   ('would', 0.003168982),\n",
       "   ('also', 0.0030021747),\n",
       "   ('people', 0.0027795937),\n",
       "   ('health', 0.0026692695),\n",
       "   ('world', 0.0025501186),\n",
       "   ('like', 0.002523323),\n",
       "   ('obama', 0.0024694924)]),\n",
       " (1,\n",
       "  [('.', 0.0039847344),\n",
       "   ('people', 0.0038884017),\n",
       "   ('en', 0.0036854045),\n",
       "   ('one', 0.0036602425),\n",
       "   ('war', 0.0036121078),\n",
       "   ('el', 0.003539099),\n",
       "   ('said', 0.0033471428),\n",
       "   ('que', 0.0032421732),\n",
       "   ('us', 0.0030948848),\n",
       "   ('syria', 0.0030907427)]),\n",
       " (2,\n",
       "  [('clinton', 0.02206227),\n",
       "   ('hillary', 0.013853698),\n",
       "   ('fbi', 0.008377195),\n",
       "   ('emails', 0.005630753),\n",
       "   ('campaign', 0.005592588),\n",
       "   ('email', 0.0049686832),\n",
       "   ('.', 0.004625006),\n",
       "   ('said', 0.0040621506),\n",
       "   ('investigation', 0.003994325),\n",
       "   ('comey', 0.0039247293)]),\n",
       " (3,\n",
       "  [('trump', 0.011732292),\n",
       "   ('people', 0.0064852),\n",
       "   ('us', 0.00540894),\n",
       "   ('.', 0.0047432124),\n",
       "   ('one', 0.0045671295),\n",
       "   ('would', 0.0045039826),\n",
       "   ('clinton', 0.004084305),\n",
       "   ('election', 0.0039829332),\n",
       "   ('said', 0.003540285),\n",
       "   ('like', 0.0034607097)]),\n",
       " (4,\n",
       "  [('это', 0.005269212),\n",
       "   ('us', 0.0030040224),\n",
       "   ('new', 0.0027264734),\n",
       "   ('one', 0.0023043645),\n",
       "   ('could', 0.0022623139),\n",
       "   ('time', 0.0021459986),\n",
       "   ('world', 0.0020694423),\n",
       "   ('would', 0.0020047852),\n",
       "   ('»', 0.0019635083),\n",
       "   ('«', 0.0019384443)])]"
      ]
     },
     "execution_count": 115,
     "metadata": {},
     "output_type": "execute_result"
    }
   ],
   "source": [
    "dictionary = gensim.corpora.Dictionary(lda_fake_token)\n",
    "bow_corpus = [dictionary.doc2bow(doc) for doc in lda_fake_token]\n",
    "\n",
    "lda_fake = gensim.models.LdaMulticore(bow_corpus, \n",
    "                                      num_topics=5,\n",
    "                                      id2word = dictionary,\n",
    "                                      passes = 7)\n",
    "lda_fake.show_topics(formatted=False)"
   ]
  },
  {
   "cell_type": "markdown",
   "metadata": {},
   "source": [
    "- Even with Russian stopwords removed and punctuations removed the topics still show wrong words. \n",
    "---\n",
    "- Now to try and find topics for real news"
   ]
  },
  {
   "cell_type": "code",
   "execution_count": 90,
   "metadata": {},
   "outputs": [
    {
     "name": "stderr",
     "output_type": "stream",
     "text": [
      "100%|██████████| 13558/13558 [00:51<00:00, 264.21it/s]\n"
     ]
    }
   ],
   "source": [
    "lda_true_token = lda_true_clean.progress_apply(lambda row: nltk.word_tokenize(row))"
   ]
  },
  {
   "cell_type": "code",
   "execution_count": 91,
   "metadata": {},
   "outputs": [
    {
     "data": {
      "text/plain": [
       "[(0,\n",
       "  [('said', 0.011549504),\n",
       "   ('new', 0.006066168),\n",
       "   ('one', 0.0056926673),\n",
       "   ('like', 0.004855),\n",
       "   ('people', 0.0036927876),\n",
       "   ('york', 0.0033076517),\n",
       "   ('would', 0.0032874232),\n",
       "   ('time', 0.0031537598),\n",
       "   ('times', 0.003046126),\n",
       "   ('first', 0.0028656048)]),\n",
       " (1,\n",
       "  [('said', 0.015354815),\n",
       "   ('clinton', 0.010463354),\n",
       "   ('trump', 0.006882085),\n",
       "   ('state', 0.005105912),\n",
       "   ('new', 0.0046532834),\n",
       "   ('would', 0.004607887),\n",
       "   ('campaign', 0.004528937),\n",
       "   ('police', 0.004229967),\n",
       "   ('one', 0.004152407),\n",
       "   ('people', 0.0037855126)]),\n",
       " (2,\n",
       "  [('said', 0.0130729955),\n",
       "   ('state', 0.0050137867),\n",
       "   ('people', 0.004294107),\n",
       "   ('united', 0.0040547745),\n",
       "   ('government', 0.0039892965),\n",
       "   ('new', 0.0038092497),\n",
       "   ('islamic', 0.003625345),\n",
       "   ('one', 0.0035838939),\n",
       "   ('also', 0.0035200524),\n",
       "   ('would', 0.0033484658)]),\n",
       " (3,\n",
       "  [('trump', 0.022445142),\n",
       "   ('said', 0.009104946),\n",
       "   ('president', 0.008243252),\n",
       "   ('would', 0.0053247027),\n",
       "   ('obama', 0.0047485195),\n",
       "   ('news', 0.0045838896),\n",
       "   ('house', 0.0042876727),\n",
       "   ('people', 0.0039194333),\n",
       "   ('one', 0.0038794314),\n",
       "   ('white', 0.0036428785)]),\n",
       " (4,\n",
       "  [('said', 0.01472656),\n",
       "   ('trump', 0.011280173),\n",
       "   ('would', 0.006504518),\n",
       "   ('new', 0.0049484023),\n",
       "   ('president', 0.004250298),\n",
       "   ('people', 0.003997707),\n",
       "   ('states', 0.0035608045),\n",
       "   ('one', 0.003412046),\n",
       "   ('also', 0.0033177787),\n",
       "   ('court', 0.0032306786)])]"
      ]
     },
     "execution_count": 91,
     "metadata": {},
     "output_type": "execute_result"
    }
   ],
   "source": [
    "dictionary = gensim.corpora.Dictionary(lda_true_token)\n",
    "bow_corpus = [dictionary.doc2bow(doc) for doc in lda_true_token]\n",
    "\n",
    "lda_true = gensim.models.LdaMulticore(bow_corpus, \n",
    "                                      num_topics=5,\n",
    "                                      id2word = dictionary,\n",
    "                                      passes = 7)\n",
    "lda_true.show_topics(formatted=False)"
   ]
  }
 ],
 "metadata": {
  "kernelspec": {
   "display_name": "Python 3",
   "language": "python",
   "name": "python3"
  },
  "language_info": {
   "codemirror_mode": {
    "name": "ipython",
    "version": 3
   },
   "file_extension": ".py",
   "mimetype": "text/x-python",
   "name": "python",
   "nbconvert_exporter": "python",
   "pygments_lexer": "ipython3",
   "version": "3.8.3"
  }
 },
 "nbformat": 4,
 "nbformat_minor": 4
}
